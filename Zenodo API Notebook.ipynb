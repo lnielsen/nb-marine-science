{
 "cells": [
  {
   "cell_type": "markdown",
   "metadata": {},
   "source": [
    "# Zenodo API Example\n",
    "\n",
    "This notebook demonstrates how to query the Zenodo REST API. First of all, we create a couple of Python helper functions and classes to make it easier to query Zenodo. Don't worry too much about the details:"
   ]
  },
  {
   "cell_type": "code",
   "execution_count": 70,
   "metadata": {},
   "outputs": [],
   "source": [
    "import requests\n",
    "\n",
    "def raise_on_error(res):\n",
    "    \"\"\"Helper to check response for errors.\"\"\"\n",
    "    if res.status_code != 200:\n",
    "        data = res.json()\n",
    "        raise Exception('[{status}] {message}'.format(**data))\n",
    "\n",
    "        \n",
    "class ResultWrapper(object):\n",
    "    \"\"\"Helper to work with search results\"\"\"\n",
    "    def __init__(self, session, response):\n",
    "        raise_on_error(response)\n",
    "        self._session = session\n",
    "        self.response = response\n",
    "        \n",
    "    def has_json(self):\n",
    "        \"\"\"Check if content type is JSON.\"\"\"\n",
    "        return self.response.headers['Content-Type'] == 'application/json'\n",
    "            \n",
    "    @property\n",
    "    def data(self):\n",
    "        \"\"\"Get JSON data.\"\"\"\n",
    "        return self.response.json() if self.has_json() else {}\n",
    "    \n",
    "    @property\n",
    "    def aggregations(self):\n",
    "        \"\"\"Get aggregations.\"\"\"\n",
    "        return self.response.json()['aggregations']  if self.has_json() else {}\n",
    "    \n",
    "    @property\n",
    "    def total(self):\n",
    "        \"\"\"Get total number of hits.\"\"\"\n",
    "        return self.response.json()['hits']['total'] if self.has_json() else None\n",
    "        \n",
    "    @property\n",
    "    def pages(self):\n",
    "        \"\"\"Helper to fetch all result pages.\"\"\"\n",
    "        yield self.response\n",
    "        next_url = self.response.links.get('next', {}).get('url')\n",
    "        while next_url:\n",
    "            res_page = self._session.get(next_url)\n",
    "            raise_on_error(res_page)\n",
    "            yield res_page\n",
    "            next_url = res_page.links.get('next', {}).get('url')\n",
    "    \n",
    "    @property\n",
    "    def hits(self):\n",
    "        \"\"\"Helper to iterate over each hit.\"\"\"\n",
    "        if not self.has_json():\n",
    "            return None\n",
    "        for res in self.pages:\n",
    "            for h in res.json()['hits']['hits']:\n",
    "                yield h\n",
    "                \n",
    "class ZenodoClient(object):\n",
    "    \"\"\"Simple Zenodo API Client\"\"\"\n",
    "\n",
    "    def __init__(self, accept=None, token=None):\n",
    "        self._accept = accept\n",
    "        self._token = token\n",
    "        self._session = None\n",
    "        self._endpoint = 'https://www.zenodo.org/api/'\n",
    "        self._endpoint_search = '{}records/'.format(self._endpoint)\n",
    "        self._endpoint_communities = '{}communities/'.format(self._endpoint)\n",
    "        self._endpoint_styles = '{}csl/styles'.format(self._endpoint)\n",
    "        \n",
    "    @property\n",
    "    def session(self):\n",
    "        \"\"\"Create a session for making HTTP requests to the API.\"\"\"\n",
    "        if self._session is None:\n",
    "            self._session = requests.Session()    \n",
    "            # Construct headers\n",
    "            headers = {\n",
    "                'Accept': self._accept or 'application/vnd.zenodo.v1+json',\n",
    "                'Accept-Charset': 'utf-8',\n",
    "            }\n",
    "            if self._token:\n",
    "                headers['Authorization'] = 'Bearer {}'.format(self._token)            \n",
    "            self._session.headers.update(headers)\n",
    "        return self._session\n",
    "\n",
    "    def search(self, query=None, size=None, sort=None, **filters):\n",
    "        \"\"\"Search Zenodo\"\"\"\n",
    "        params = {'q': query or '', 'sort': sort or 'bestmatch', 'size': size or 100}\n",
    "        if filters:\n",
    "            for f, vals in filters.items():\n",
    "                params[f] = vals\n",
    "        return ResultWrapper(self.session, self.session.get(self._endpoint_search, params=params))\n",
    "    \n",
    "    def communities(self, query=None, size=None, sort=None, **filters):\n",
    "        \"\"\"Search Communities on Zenodo\"\"\"\n",
    "        params = {'q': query or '', 'size': size or 1000}\n",
    "        return ResultWrapper(self.session, self.session.get(self._endpoint_communities, params=params))\n",
    "    \n",
    "    def record(self, record_id, accept=None, **params):\n",
    "        \"\"\"Retrieve a single record.\"\"\"\n",
    "        url = '{base}{recid}'.format(base=self._endpoint_search, recid=record_id)\n",
    "        params = params or {}\n",
    "        headers = self.session.headers\n",
    "        if accept:\n",
    "            headers['Accept'] = accept\n",
    "            \n",
    "        res = self.session.get(url, headers=headers, params=params)\n",
    "        raise_on_error(res)\n",
    "        return res\n",
    "    \n",
    "    def csl_styles(self):\n",
    "        res = self.session.get(self._endpoint_styles)\n",
    "        raise_on_error(res)\n",
    "        return res\n",
    "        "
   ]
  },
  {
   "cell_type": "markdown",
   "metadata": {},
   "source": [
    "## Initialize the API client\n",
    "Using our just created helper classes we can now create a Zenodo API client:"
   ]
  },
  {
   "cell_type": "code",
   "execution_count": 71,
   "metadata": {},
   "outputs": [],
   "source": [
    "api = ZenodoClient()"
   ]
  },
  {
   "cell_type": "markdown",
   "metadata": {},
   "source": [
    "### Search\n",
    "Using the API client we can now execute queries against Zenodo search API.\n"
   ]
  },
  {
   "cell_type": "code",
   "execution_count": 72,
   "metadata": {},
   "outputs": [
    {
     "data": {
      "text/plain": [
       "38"
      ]
     },
     "execution_count": 72,
     "metadata": {},
     "output_type": "execute_result"
    }
   ],
   "source": [
    "query = '+type:software +keywords:(marine ocean sea fish aqua)'\n",
    "result = api.search(query)\n",
    "result.total"
   ]
  },
  {
   "cell_type": "markdown",
   "metadata": {},
   "source": [
    "Notice the query string. Here is a couple of points:\n",
    "\n",
    "* **Field search**: We are now searching on two specific fields - ``type`` and ``keywords``.\n",
    "* **Required fields**: The small ``+`` in front the field indicate the field must be present (i.e. both fields are required sincen they have a plus in the front).\n",
    "* **Field multi-term**: On ``keywords`` we search for ``marine`` or ``ocean`` or ....\n",
    "\n",
    "Now let's inspect the results:"
   ]
  },
  {
   "cell_type": "code",
   "execution_count": 30,
   "metadata": {},
   "outputs": [
    {
     "name": "stdout",
     "output_type": "stream",
     "text": [
      "10.5281/zenodo.161319: The Finite-volumE Sea ice-Ocean Model (FESOM2)\n",
      "10.5281/zenodo.61540: OHI Canada survey results code: Final Publication Version\n",
      "10.5281/zenodo.61716: OHI Canada survey results code: Final Publication Version\n",
      "10.5281/zenodo.1157228: Finite Element Sea-ice/ice-shelf Ocean Model (FESOM) 1.4\n",
      "10.5281/zenodo.1157230: MetROMS-iceshelf\n",
      "10.5281/zenodo.32741: Data Processing for a Small-Scale Long-Term Coastal Ocean Observing System Near Mobile Bay, Alabama: A Geoscience Papers of the Future (GPF) Software Set\n",
      "10.5281/zenodo.574902: Analysis and Figure Creation From: \"Incorporating public priorities in the Ocean Health Index: Canada as a case study\"\n",
      "10.5281/zenodo.574901: Data Wrangling From: \"Incorporating public priorities in the Ocean Health Index: Canada as a case study\"\n",
      "10.5281/zenodo.1116851: The Finite-Element Sea ice-Ocean Model (FESOM)\n",
      "10.5281/zenodo.247741: UNC-CFD/somar: SOMAR first release\n",
      "10.5281/zenodo.15507: LocalizeSL: Offline sea-level localization code for Kopp et al. (2014)\n",
      "10.5281/zenodo.15416: ReefNetDiveMove: ReefNetDiveMove\n",
      "10.5281/zenodo.1005492: ryanjdillon/pyotelem: Release for DOI generation\n",
      "10.5281/zenodo.1000801: The Community ocean Vertical Mixing (CVMix) project\n",
      "10.5281/zenodo.1036333: cdr30/SynthPro: SynthPro v1.0.0\n",
      "10.5281/zenodo.61611: Development of a probabilistic ocean modelling system based on NEMO 3.5: application at eddying resolution\n",
      "10.5281/zenodo.572395: Source code for \"Synthesizing long-term sea level rise projections - the MAGICC sea level model v2.0\"\n",
      "10.5281/zenodo.16145: Microbial Remineralization Model v1.0\n",
      "10.5281/zenodo.836727: gher-ulg/DIVA: v4.7.1\n",
      "10.5281/zenodo.1076426: Source Code for Jung et al., GMD:Performance evaluation of ROMS v3.6 on a commercial cloud system\n",
      "10.5281/zenodo.1133130: Veros v0.1.0\n",
      "10.5281/zenodo.13380: NOAH LSM Mussel v2.0\n",
      "10.5281/zenodo.1199066: pism/pik/paleo_07dev: PISM version as used in Kingslake, Scherer, Albrecht et al. Nature publication\n",
      "10.5281/zenodo.45656: airsea: R tools for air-sea gas exchange studies (0.2)\n",
      "10.5281/zenodo.59867: CESL-STEHM-GP: Spatio-Temporal Empirical Hierarchical Modeling of sea-level data with Gaussian Processes\n",
      "10.5281/zenodo.884048: Bifrost\n",
      "10.5281/zenodo.556602: JIGSAW-GEO: Grid-generation for general circulation modelling on the sphere (Version 1.0.1)\n",
      "10.5281/zenodo.824413: Source Code for Simulation of the Origin of Mantle Volatiles\n",
      "10.5281/zenodo.259997: Bio Economic Selection Tool for Marine Protected Areas (BESTMPA) R package\n",
      "10.5281/zenodo.819735: statbio/topOnto: topOnto v1.0\n",
      "10.5281/zenodo.321923: Code and data to support \"Massive increase in visual range preceded the origin of terrestrial vertebrates\"\n",
      "10.5281/zenodo.836706: SOCIB glider_toolbox\n",
      "10.5281/zenodo.1199038: StagLab 3.0\n",
      "10.5281/zenodo.1005458: ryanjdillon/smartmove: First release\n",
      "10.5281/zenodo.15985: S4CAST_v2.0\n",
      "10.5281/zenodo.818229: SAR Sea Ice Edge\n",
      "10.5281/zenodo.437194: Defenders-ESC/section7_explorer: New FWS data, minor UI refinements\n",
      "10.5281/zenodo.1013922: Comparative phylogeography of two co-distributed but ecologically distinct rainbowfishes of far-northern Australia\n"
     ]
    }
   ],
   "source": [
    "for record in result.hits:\n",
    "    print('{}: {}'.format(record['doi'], record['metadata']['title']))"
   ]
  },
  {
   "cell_type": "markdown",
   "metadata": {},
   "source": [
    "## Export a bibliograph\n",
    "Zenodo supports several other output metadata formats other than JSON. For search results Zenodo can produce the following metadata formats:\n",
    "\n",
    "* BibTex: ``application/x-bibtex``\n",
    "* DublinCore: ``application/x-dc+xml``\n",
    "* DataCite: ``application/x-datacite+xml``\n",
    "* MARC21: ``application/marcxml+xml``\n",
    "\n",
    "For individual records the following additional formats can be produced:\n",
    "\n",
    "* JSON-LD: ``application/ld+json``\n",
    "* Citation Style Language (CSL): ``application/vnd.citationstyles.csl+json``\n",
    "* Citation text: ``text/x-bibliography``\n",
    "\n",
    "In the first example, we will download a BibTeX bibliography of all records in above search query and write it to a file:"
   ]
  },
  {
   "cell_type": "code",
   "execution_count": 31,
   "metadata": {},
   "outputs": [],
   "source": [
    "# Create a API client (specifying the desired output format)\n",
    "api = ZenodoClient(accept='application/x-bibtex')\n",
    "\n",
    "# Query for records belonging to the Astronomy Thesis Collection.\n",
    "result = api.search(query)\n",
    "\n",
    "with open('bibliography.bib', 'wb') as fp:\n",
    "    # Iterate over all the results and write them to the file.\n",
    "    for page in result.pages:\n",
    "        fp.write(page.content)"
   ]
  },
  {
   "cell_type": "markdown",
   "metadata": {},
   "source": [
    "In the second example we will generate a citation string for all the records:"
   ]
  },
  {
   "cell_type": "code",
   "execution_count": 22,
   "metadata": {},
   "outputs": [
    {
     "name": "stdout",
     "output_type": "stream",
     "text": [
      "Sergey Danilov, Dmitry Sidorenko, Qiang Wang, & Thomas Jung. (2016, October 17). The Finite-volumE Sea ice-Ocean Model (FESOM2). Zenodo. http://doi.org/10.5281/zenodo.161319\n",
      "Remi Daigle, ., Wolfgang Haider, ., Sergio Fernández-Lozada, ., Kimberly Irwin, ., Philippe Archambault, ., & Isabelle M. Côté, . (2016, September 5). OHI Canada survey results code: Final Publication Version (Version v1.0). Zenodo. http://doi.org/10.5281/zenodo.61540\n",
      "Daigle, R., Haider, W., Fernández-Lozada, S., Irwin, K., Archambault, P., & Côté, I. M. (2016, September 7). OHI Canada survey results code: Final Publication Version. Zenodo. http://doi.org/10.5281/zenodo.61716\n",
      "Naughten, Kaitlin A., Meissner, Katrin J., Galton-Fenzi, Benjamin K., England, Matthew H., Timmermann, Ralph, Hellmer, Hartmut H., … Debernard, Jens B. (2018, January 23). Finite Element Sea-ice/ice-shelf Ocean Model (FESOM) 1.4. Zenodo. http://doi.org/10.5281/zenodo.1157228\n",
      "Naughten, Kaitlin A., Meissner, Katrin J., Galton-Fenzi, Benjamin K., England, Matthew H., Timmermann, Ralph, Hellmer, Hartmut H., … Debernard, Jens B. (2018, January 23). MetROMS-iceshelf. Zenodo. http://doi.org/10.5281/zenodo.1157230\n",
      "Tzeng, M. W., Dzwonkowski, B., & Park, K. (2015, October 26). Data Processing for a Small-Scale Long-Term Coastal Ocean Observing System Near Mobile Bay, Alabama: A Geoscience Papers of the Future (GPF) Software Set. Zenodo. http://doi.org/10.5281/zenodo.32741\n",
      "Daigle, Rémi M., & Lowndes, Julia Stewart. (2017, May 12). Analysis and Figure Creation From: \"Incorporating public priorities in the Ocean Health Index: Canada as a case study\" (Version 1.0). Zenodo. http://doi.org/10.5281/zenodo.574902\n",
      "Daigle, Rémi M., & Lowndes, Julia Stewart. (2017, May 12). Data Wrangling From: \"Incorporating public priorities in the Ocean Health Index: Canada as a case study\" (Version 1.0). Zenodo. http://doi.org/10.5281/zenodo.574901\n",
      "Wang, Qiang, Wekerle, Claudia, Danilov, Sergey, Wang, Xuezhu, & Jung, Thomas. (2017, December 15). The Finite-Element Sea ice-Ocean Model (FESOM) (Version 2). Zenodo. http://doi.org/10.5281/zenodo.1116851\n",
      "Ed Santilli, & Alberto Scotti. (2017, January 16). UNC-CFD/somar: SOMAR first release (Version V1.0.0). Zenodo. http://doi.org/10.5281/zenodo.247741\n",
      "Kopp, R. E. (2015, February 18). LocalizeSL: Offline sea-level localization code for Kopp et al. (2014). Zenodo. http://doi.org/10.5281/zenodo.15507\n",
      "Thomas, A., & Todd, M. (2015, February 15). ReefNetDiveMove: ReefNetDiveMove (Version v1.0). Zenodo. http://doi.org/10.5281/zenodo.15416\n",
      "Dillon, Ryan J., Johnson, Mark, Martín López, Lucía Martina, & Biuw, Martin. (2017, October 9). ryanjdillon/pyotelem: Release for DOI generation (Version 0.4). Zenodo. http://doi.org/10.5281/zenodo.1005492\n",
      "Griffies, Stephen M., Levy, Michael, Adcroft, Alistair J., Danabasoglu, Gokhan, Hallberg, Robert W., Jacobsen, Doug J., … Van Roekel, Luke P. (2017, October 2). The Community ocean Vertical Mixing (CVMix) project. Zenodo. http://doi.org/10.5281/zenodo.1000801\n",
      "Roberts, C. D. (2017, October 25). cdr30/SynthPro: SynthPro v1.0.0 (Version v1.0.0). Zenodo. http://doi.org/10.5281/zenodo.1036333\n",
      "Bessières, Laurent, Leroux, Stéphanie, Brankart, Jean-Michel, Molines, Jean-Marc, Moine, Marie-Pierre, Bouttier, Pierre-Antoine, … Sérazin, Guillaume. (2016, September 5). Development of a probabilistic ocean modelling system based on NEMO 3.5: application at eddying resolution. Geoscientific Model Development. Zenodo. http://doi.org/10.5281/zenodo.61611\n",
      "Nauels, Alexander, Meinshausen, Malte, Mengel, Matthias, Lorbacher, Katja, & Wigley, Tom M. L. (2017, March 23). Source code for \"Synthesizing long-term sea level rise projections - the MAGICC sea level model v2.0\". Zenodo. http://doi.org/10.5281/zenodo.572395\n",
      "K. A. S. Mislan, ., Charles Stock, ., John Dunne, ., & Jorge Sarmiento, . (2014, December 31). Microbial Remineralization Model v1.0 (Version v1.0). Journal of Marine Research. Zenodo. http://doi.org/10.5281/zenodo.16145\n",
      "Sylvain Watelet, Charles Troupin, Jean-Marie Beckers, Alexander Barth, & Mohamed Ouberdous. (2017, July 31). gher-ulg/DIVA: v4.7.1 (Version v4.7.1). Zenodo. http://doi.org/10.5281/zenodo.836727\n",
      "Jung,Kwangwoog, Cho,Yang-Ki, & Tak,Yong-Jin. (2017, December 4). Source Code for Jung et al., GMD:Performance evaluation of ROMS v3.6 on a commercial cloud system. Zenodo. http://doi.org/10.5281/zenodo.1076426\n",
      "Häfner, Dion, & Jacobsen, Renè. (2017, December 9). Veros v0.1.0. Zenodo. http://doi.org/10.5281/zenodo.1133130\n",
      "K.A.S. Mislan, ., & David S. Wethey, . (2014, December 27). NOAH LSM Mussel v2.0 (Version v2.0). Ecology. Zenodo. http://doi.org/10.5281/zenodo.13380\n",
      "Albrecht, Torsten, & other PISM authors. (2018, March 15). pism/pik/paleo_07dev: PISM version as used in Kingslake, Scherer, Albrecht et al. Nature publication (Version pik-holocene-gl-rebound). Zenodo. http://doi.org/10.5281/zenodo.1199066\n",
      "Tom Hull, ., & Martin Johnson, . (2015, July 1). airsea: R tools for air-sea gas exchange studies (0.2) (Version 0.2). Zenodo. http://doi.org/10.5281/zenodo.45656\n",
      "Kopp, R. E. (2016, January 30). CESL-STEHM-GP: Spatio-Temporal Empirical Hierarchical Modeling of sea-level data with Gaussian Processes. Proceedings of the National Academies of Sciences. Zenodo. http://doi.org/10.5281/zenodo.59867\n",
      "Nick Hughes. (2017, September 4). Bifrost. Zenodo. http://doi.org/10.5281/zenodo.884048\n",
      "Darren Engwirda. (2017, April 21). JIGSAW-GEO: Grid-generation for general circulation modelling on the sphere (Version 1.0.1) (Version 1.0.1). Zenodo. http://doi.org/10.5281/zenodo.556602\n",
      "Saswata Hier-Majumder, & Marc Hirschmann. (2017, July 8). Source Code for Simulation of the Origin of Mantle Volatiles. Zenodo. http://doi.org/10.5281/zenodo.824413\n",
      "Remi Daigle, Monaco, Cristián, & Elgin, Ashley K. (2017, January 25). Bio Economic Selection Tool for Marine Protected Areas (BESTMPA) R package (Version 1.0). Zenodo. http://doi.org/10.5281/zenodo.259997\n",
      "Xin He, & T. Ian Simpson. (2017, June 27). statbio/topOnto: topOnto v1.0 (Version v1.0). Zenodo. http://doi.org/10.5281/zenodo.819735\n",
      "MacIver, Malcolm A., Schmitz, Lars, Mugan, Ugurcan, Murphey, Todd D., & Mobley, Curtis D. (2017, February 23). Code and data to support \"Massive increase in visual range preceded the origin of terrestrial vertebrates\" (Version v1.0.0). Proceedings of the National Academy of Sciences. Zenodo. http://doi.org/10.5281/zenodo.321923\n",
      "SOCIB Data Center. (2017, July 31). SOCIB glider_toolbox. Zenodo. http://doi.org/10.5281/zenodo.836706\n",
      "Crameri, Fabio. (2017, December 7). StagLab 3.0 (Version 3.0.2). Zenodo. http://doi.org/10.5281/zenodo.1199038\n",
      "Dillon, Ryan J., Martín López, Lucía Martina, & Aoki, Kagari. (2017, October 9). ryanjdillon/smartmove: First release (Version 0.1). Zenodo. http://doi.org/10.5281/zenodo.1005458\n",
      "Suárez-Moreno, R., & Rodríguez-Fonseca, B. (2015, March 11). S4CAST_v2.0. Zenodo. http://doi.org/10.5281/zenodo.15985\n",
      "Hughes, Nick. (2017, June 26). SAR Sea Ice Edge. Zenodo. http://doi.org/10.5281/zenodo.818229\n",
      "Jacob Malcom, & Michael Evans. (2017, March 21). Defenders-ESC/section7_explorer: New FWS data, minor UI refinements (Version v3.0). Zenodo. http://doi.org/10.5281/zenodo.437194\n",
      "Mather, AT, Hanson, JO, Pope, LC, & Riginos, C. (2017, October 16). Comparative phylogeography of two co-distributed but ecologically distinct rainbowfishes of far-northern Australia. Journal of Biogeography. Zenodo. http://doi.org/10.5281/zenodo.1013922\n"
     ]
    }
   ],
   "source": [
    "api = ZenodoClient()\n",
    "result = api.search(query)\n",
    "for h in result.hits:\n",
    "    res = api.record(h['id'], accept='text/x-bibliography', style='apa')\n",
    "    print(res.text)"
   ]
  },
  {
   "cell_type": "markdown",
   "metadata": {},
   "source": [
    "# Aggregations\n",
    "Want to know about types, open/closed access, file types and keywords?"
   ]
  },
  {
   "cell_type": "code",
   "execution_count": 23,
   "metadata": {},
   "outputs": [
    {
     "name": "stdout",
     "output_type": "stream",
     "text": [
      "software: 38\n"
     ]
    }
   ],
   "source": [
    "api = ZenodoClient()\n",
    "result = api.search(query)\n",
    "for b in result.aggregations['type']['buckets']:\n",
    "    print('{key}: {doc_count}'.format(**b))\n"
   ]
  },
  {
   "cell_type": "code",
   "execution_count": 24,
   "metadata": {},
   "outputs": [
    {
     "name": "stdout",
     "output_type": "stream",
     "text": [
      "open: 38\n"
     ]
    }
   ],
   "source": [
    "for b in result.aggregations['access_right']['buckets']:\n",
    "    print('{key}: {doc_count}'.format(**b))"
   ]
  },
  {
   "cell_type": "code",
   "execution_count": 25,
   "metadata": {},
   "outputs": [
    {
     "name": "stdout",
     "output_type": "stream",
     "text": [
      "ocean: 21\n",
      "sea: 11\n",
      "marine: 9\n",
      "model: 9\n",
      "ice: 6\n",
      "modeling: 5\n",
      "modelling: 5\n",
      "python: 5\n",
      "data: 4\n",
      "climate: 3\n"
     ]
    }
   ],
   "source": [
    "for b in result.aggregations['keywords']['buckets']:\n",
    "    print('{key}: {doc_count}'.format(**b))"
   ]
  },
  {
   "cell_type": "code",
   "execution_count": 26,
   "metadata": {},
   "outputs": [
    {
     "name": "stdout",
     "output_type": "stream",
     "text": [
      "zip: 31\n",
      "gz: 5\n",
      "sce: 1\n",
      "tar: 1\n"
     ]
    }
   ],
   "source": [
    "for b in result.aggregations['file_type']['buckets']:\n",
    "    print('{key}: {doc_count}'.format(**b))"
   ]
  },
  {
   "cell_type": "markdown",
   "metadata": {},
   "source": [
    "# Communities"
   ]
  },
  {
   "cell_type": "code",
   "execution_count": 65,
   "metadata": {},
   "outputs": [],
   "source": [
    "api = ZenodoClient(accept='application/json')\n",
    "keywords = ['marine', 'ocean', 'fish', 'aqua' ]\n",
    "communities = {}\n",
    "\n",
    "for k in keywords:\n",
    "    result = api.communities(k)\n",
    "    for c in result.hits:\n",
    "        communities[c['id']] = c"
   ]
  },
  {
   "cell_type": "code",
   "execution_count": 66,
   "metadata": {},
   "outputs": [
    {
     "data": {
      "text/plain": [
       "44"
      ]
     },
     "execution_count": 66,
     "metadata": {},
     "output_type": "execute_result"
    }
   ],
   "source": [
    "len(communities)"
   ]
  },
  {
   "cell_type": "code",
   "execution_count": 68,
   "metadata": {},
   "outputs": [
    {
     "name": "stdout",
     "output_type": "stream",
     "text": [
      "https://www.zenodo.org/communities/2231-0606/\n",
      "https://www.zenodo.org/communities/2231-3443/\n",
      "https://www.zenodo.org/communities/2231-4776/\n",
      "https://www.zenodo.org/communities/adriplan/\n",
      "https://www.zenodo.org/communities/aquarius/\n",
      "https://www.zenodo.org/communities/aquatrace/\n",
      "https://www.zenodo.org/communities/assisibf/\n",
      "https://www.zenodo.org/communities/atlas/\n",
      "https://www.zenodo.org/communities/bermudabream/\n",
      "https://www.zenodo.org/communities/bigdataocean/\n",
      "https://www.zenodo.org/communities/biogeochem/\n",
      "https://www.zenodo.org/communities/blue-actionh2020/\n",
      "https://www.zenodo.org/communities/brcorp1/\n",
      "https://www.zenodo.org/communities/calcifierraman/\n",
      "https://www.zenodo.org/communities/columbus/\n",
      "https://www.zenodo.org/communities/devotes-project/\n",
      "https://www.zenodo.org/communities/discardless/\n",
      "https://www.zenodo.org/communities/eawag/\n",
      "https://www.zenodo.org/communities/ecc2014/\n",
      "https://www.zenodo.org/communities/euro-basin/\n",
      "https://www.zenodo.org/communities/facts/\n",
      "https://www.zenodo.org/communities/fisheries/\n",
      "https://www.zenodo.org/communities/gasj/\n",
      "https://www.zenodo.org/communities/h2020-aquainvad-ed/\n",
      "https://www.zenodo.org/communities/h2020_vicinaqua/\n",
      "https://www.zenodo.org/communities/mce/\n",
      "https://www.zenodo.org/communities/meece/\n",
      "https://www.zenodo.org/communities/merces_project/\n",
      "https://www.zenodo.org/communities/mossco/\n",
      "https://www.zenodo.org/communities/myfish/\n",
      "https://www.zenodo.org/communities/naclim/\n",
      "https://www.zenodo.org/communities/narmada/\n",
      "https://www.zenodo.org/communities/ocean/\n",
      "https://www.zenodo.org/communities/oceanbiogeochemistry/\n",
      "https://www.zenodo.org/communities/oceanliteracy/\n",
      "https://www.zenodo.org/communities/onc/\n",
      "https://www.zenodo.org/communities/openearth/\n",
      "https://www.zenodo.org/communities/proeel/\n",
      "https://www.zenodo.org/communities/sedinstcjfas/\n",
      "https://www.zenodo.org/communities/southern-ocean-observing-system/\n",
      "https://www.zenodo.org/communities/sponges/\n",
      "https://www.zenodo.org/communities/sunfish_project/\n",
      "https://www.zenodo.org/communities/umr-entropie/\n",
      "https://www.zenodo.org/communities/verbi/\n"
     ]
    }
   ],
   "source": [
    "for c, data in sorted(communities.items()):\n",
    "    print('https://www.zenodo.org/communities/{}/'.format(c))"
   ]
  }
 ],
 "metadata": {
  "kernelspec": {
   "display_name": "Python 3",
   "language": "python",
   "name": "python3"
  },
  "language_info": {
   "codemirror_mode": {
    "name": "ipython",
    "version": 3
   },
   "file_extension": ".py",
   "mimetype": "text/x-python",
   "name": "python",
   "nbconvert_exporter": "python",
   "pygments_lexer": "ipython3",
   "version": "3.6.3"
  }
 },
 "nbformat": 4,
 "nbformat_minor": 2
}
